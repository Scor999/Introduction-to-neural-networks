{
  "nbformat": 4,
  "nbformat_minor": 0,
  "metadata": {
    "colab": {
      "provenance": [],
      "gpuType": "T4",
      "include_colab_link": true
    },
    "kernelspec": {
      "name": "python3",
      "display_name": "Python 3"
    },
    "language_info": {
      "name": "python"
    },
    "accelerator": "GPU"
  },
  "cells": [
    {
      "cell_type": "markdown",
      "metadata": {
        "id": "view-in-github",
        "colab_type": "text"
      },
      "source": [
        "<a href=\"https://colab.research.google.com/github/Scor999/Introduction-to-neural-networks/blob/main/dz3.ipynb\" target=\"_parent\"><img src=\"https://colab.research.google.com/assets/colab-badge.svg\" alt=\"Open In Colab\"/></a>"
      ]
    },
    {
      "cell_type": "code",
      "source": [
        "import tensorflow as tf\n",
        "from tensorflow.keras.datasets import imdb\n",
        "from tensorflow.keras.preprocessing.sequence import pad_sequences\n",
        "from tensorflow.keras.models import Sequential\n",
        "from tensorflow.keras.layers import Embedding, LSTM, Dense, Dropout\n"
      ],
      "metadata": {
        "id": "-x3SlCRRsfc1"
      },
      "execution_count": 30,
      "outputs": []
    },
    {
      "cell_type": "code",
      "source": [
        "# Загрузка датасета imdb_reviews\n",
        "vocab_size = 10000\n",
        "max_len = 200\n",
        "(x_train, y_train), (x_test, y_test) = imdb.load_data(num_words=vocab_size)\n",
        "\n"
      ],
      "metadata": {
        "id": "OaBFyI4K1vKv"
      },
      "execution_count": 31,
      "outputs": []
    },
    {
      "cell_type": "code",
      "source": [
        "# Предварительная обработка данных\n",
        "x_train = pad_sequences(x_train, maxlen=max_len)\n",
        "x_test = pad_sequences(x_test, maxlen=max_len)\n"
      ],
      "metadata": {
        "id": "tNpFfWDo12H3"
      },
      "execution_count": 32,
      "outputs": []
    },
    {
      "cell_type": "code",
      "source": [
        "# Создание модели\n",
        "model = Sequential()\n",
        "model.add(Embedding(input_dim=vocab_size, output_dim=128, input_length=max_len))\n",
        "model.add(LSTM(units=64, return_sequences=True))\n",
        "model.add(Dropout(0.5))\n",
        "model.add(LSTM(units=64))\n",
        "model.add(Dropout(0.5))\n",
        "model.add(Dense(units=1, activation='sigmoid'))\n",
        "\n"
      ],
      "metadata": {
        "id": "y-pN2HFg15cX"
      },
      "execution_count": 33,
      "outputs": []
    },
    {
      "cell_type": "code",
      "source": [
        "# Компиляция модели\n",
        "model.compile(optimizer='adam', loss='binary_crossentropy', metrics=['accuracy'])\n"
      ],
      "metadata": {
        "id": "Ay6l1jCW1-EX"
      },
      "execution_count": 34,
      "outputs": []
    },
    {
      "cell_type": "code",
      "source": [
        "\n",
        "# Обучение модели\n",
        "model.fit(x_train, y_train, batch_size=64, epochs=3, validation_data=(x_test, y_test))\n"
      ],
      "metadata": {
        "colab": {
          "base_uri": "https://localhost:8080/"
        },
        "id": "4iQnHdV72B0v",
        "outputId": "0f4da94d-cbd2-43a4-b198-bba596bf0a7e"
      },
      "execution_count": 36,
      "outputs": [
        {
          "output_type": "stream",
          "name": "stdout",
          "text": [
            "Epoch 1/3\n",
            "391/391 [==============================] - 215s 551ms/step - loss: 0.2170 - accuracy: 0.9211 - val_loss: 0.3913 - val_accuracy: 0.8560\n",
            "Epoch 2/3\n",
            "391/391 [==============================] - 250s 640ms/step - loss: 0.1760 - accuracy: 0.9386 - val_loss: 0.3586 - val_accuracy: 0.8596\n",
            "Epoch 3/3\n",
            "391/391 [==============================] - 249s 637ms/step - loss: 0.1412 - accuracy: 0.9519 - val_loss: 0.3926 - val_accuracy: 0.8542\n"
          ]
        },
        {
          "output_type": "execute_result",
          "data": {
            "text/plain": [
              "<keras.src.callbacks.History at 0x79a1c5b09c90>"
            ]
          },
          "metadata": {},
          "execution_count": 36
        }
      ]
    },
    {
      "cell_type": "code",
      "source": [
        "# Оценка модели на тестовых данных\n",
        "loss, accuracy = model.evaluate(x_test, y_test)\n",
        "print(f'Test Loss: {loss}, Test Accuracy: {accuracy}')"
      ],
      "metadata": {
        "colab": {
          "base_uri": "https://localhost:8080/"
        },
        "id": "TsQtMBGn2FwQ",
        "outputId": "de0837a9-a44b-4e4e-ee1a-00d944aea852"
      },
      "execution_count": 37,
      "outputs": [
        {
          "output_type": "stream",
          "name": "stdout",
          "text": [
            "782/782 [==============================] - 54s 69ms/step - loss: 0.3926 - accuracy: 0.8542\n",
            "Test Loss: 0.3925670385360718, Test Accuracy: 0.8542400002479553\n"
          ]
        }
      ]
    }
  ]
}